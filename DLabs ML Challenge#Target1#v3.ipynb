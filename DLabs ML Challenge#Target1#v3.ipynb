{
 "cells": [
  {
   "cell_type": "code",
   "execution_count": 1,
   "metadata": {},
   "outputs": [],
   "source": [
    "import pandas as pd\n",
    "import numpy as np\n",
    "pd.set_option('display.max_columns', 10)"
   ]
  },
  {
   "cell_type": "code",
   "execution_count": 2,
   "metadata": {},
   "outputs": [],
   "source": [
    "def create_dataframe(traning_df):\n",
    "    features_df = traning_df.drop(['Gross PI Premium'],axis=1)\n",
    "    \n",
    "    features_df['Commission Amount'] = features_df['Commission Amount'] + 500\n",
    "    \n",
    "    integer_encoding_system = {'Source System':{'Simple':0,'Custom':1}}\n",
    "    features_df.replace(integer_encoding_system,inplace=True)\n",
    "    \n",
    "    #features_df['Product'] = features_df['Product'].astype('category')\n",
    "    #features_df['Product_cat'] = features_df['Product'].cat.codes\n",
    "    \n",
    "    # product one hot encoding\n",
    "    Product_dummies=pd.get_dummies(features_df[['Product']]) #Title\n",
    "    features_df = pd.concat([features_df, Product_dummies], axis=1)\n",
    "    \n",
    "    features_df.drop(['Product'],axis=1,inplace=True)\n",
    "    features_df.drop(['Product_TradeE'],axis=1,inplace=True)\n",
    "\n",
    "    \n",
    "    features_df['Transaction Type'] = features_df['Transaction Type'].replace('New Business','New business')\n",
    "    features_df['Transaction Type'] = features_df['Transaction Type'].astype('category')\n",
    "    features_df['Transaction_Type_Cat'] = features_df['Transaction Type'].cat.codes\n",
    "    features_df.drop(['Transaction Type'],axis=1,inplace=True)\n",
    "    \n",
    "    # one hot encoing for trade 1 category\n",
    "    Trade_1_dummies=pd.get_dummies(features_df[['Trade 1 Category']]) #Title\n",
    "    features_df = pd.concat([features_df, Trade_1_dummies], axis=1)\n",
    "    \n",
    "    # drop trade 1 category\n",
    "    features_df = features_df.drop(['Trade 1 Category'],axis=1)\n",
    "    # dropping one more variable from category to avoid dummy variable trap\n",
    "    features_df = features_df.drop(['Trade 1 Category_Transport'],axis=1)\n",
    "    \n",
    "    features_df.rename(mapper={'Commission Amount':'Commission_Amount',\n",
    "                               'Clerical EE':'Clerical_EE',\n",
    "                              'Source System' : 'Source_System', \n",
    "                            'Underwriting Year': 'Underwriting_Year',\n",
    "                            'Public Liability Limit' : 'Public_Liability_Limit', \n",
    "                            'Employers Liability Limit': 'Employers_Liability_Limit',\n",
    "                            'Tools Sum Insured': 'Tools_Sum_Insured',\n",
    "                            'Professional Indemnity Limit' : 'Professional_Indemnity_Limit',\n",
    "                            'Contract Works Sum Insured': 'Contract_Works_Sum_Insured',\n",
    "                            'Hired in Plan Sum Insured' : 'Hired_in_Plan_Sum_Insured',\n",
    "                            'Own Plant Sum Insured': 'Own_Plant_Sum_Insured', \n",
    "                            'Manual EE' : 'Manual_EE', \n",
    "                            'Subcontractor EE' : 'Subcontractor_EE',\n",
    "                            'Trade 1 Risk Level' : 'Trade_1_Risk_Level', \n",
    "                            'Trade 2 Risk Level' : 'Trade_2_Risk_Level', \n",
    "                            'Commission Amount' : 'Commission_Amount',\n",
    "                              'Trade 1 Category_Arts & Crafts' : 'Category_Arts_Crafts',\n",
    "                               'Trade 1 Category_Building/Allied': 'Category_Building/Allied', \n",
    "                               'Trade 1 Category_Catering':'Category_Catering',\n",
    "                               'Trade 1 Category_Cleaning':'Category_Cleaning', \n",
    "                               'Trade 1 Category_Decline':'Category_Decline',\n",
    "                               'Trade 1 Category_Decorators/Flooring':'Category_Decorators_Flooring', \n",
    "                               'Trade 1 Category_Electrical':'Category_Electrical',\n",
    "                               'Trade 1 Category_Groundwork/Allied':'Category_Groundwork',\n",
    "                               'Trade 1 Category_HVAC/Mech/Allied':'Category_HVAC',\n",
    "                               'Trade 1 Category_Insulation/Treatment':'Category_Insulation',\n",
    "                               'Trade 1 Category_Professional':'Category_Professional',\n",
    "                               'Trade 1 Category_Professional/ Surveying':'Category_Professional_Surveying',\n",
    "                               'Trade 1 Category_Security':'Category_Security',\n",
    "                               'Trade 1 Category_Service':'Category_Service',\n",
    "                               'Trade 1 Category_Sport':'Category_Sport'\n",
    "                               #,'Trade 1 Category_Transport':'Category_Transport'\n",
    "                              },axis=1,inplace=True)\n",
    "\n",
    "    return features_df"
   ]
  },
  {
   "cell_type": "code",
   "execution_count": 3,
   "metadata": {},
   "outputs": [],
   "source": [
    "traning_df = pd.read_csv(r'C:\\Users\\rohishah\\Desktop\\DLAB\\First_set.csv')"
   ]
  },
  {
   "cell_type": "code",
   "execution_count": 4,
   "metadata": {},
   "outputs": [],
   "source": [
    "traning_df = traning_df.reindex(np.random.permutation(traning_df.index))"
   ]
  },
  {
   "cell_type": "code",
   "execution_count": 5,
   "metadata": {},
   "outputs": [],
   "source": [
    "selected_col_df = create_dataframe(traning_df)"
   ]
  },
  {
   "cell_type": "markdown",
   "metadata": {},
   "source": [
    "selected_col_df.head()"
   ]
  },
  {
   "cell_type": "code",
   "execution_count": 6,
   "metadata": {},
   "outputs": [
    {
     "data": {
      "text/plain": [
       "Index(['Target1', 'Source_System', 'Underwriting_Year',\n",
       "       'Public_Liability_Limit', 'Employers_Liability_Limit',\n",
       "       'Tools_Sum_Insured', 'Professional_Indemnity_Limit',\n",
       "       'Contract_Works_Sum_Insured', 'Hired_in_Plan_Sum_Insured',\n",
       "       'Own_Plant_Sum_Insured', 'Manual_EE', 'Clerical_EE', 'Subcontractor_EE',\n",
       "       'Trade_1_Risk_Level', 'Trade_2_Risk_Level', 'Commission_Amount',\n",
       "       'DurationofPolicy', 'CombinedTradeRiskLevel',\n",
       "       'Public_Liability_Limit_1000000', 'Public_Liability_Limit_1000000.1',\n",
       "       'Public_Liability_Limit_2000000', 'Public_Liability_Limit_5000000',\n",
       "       'Public_Liability_Limit_5000000.1', 'Public_Liability_Limit_1000000.2',\n",
       "       'Public_Liability_Limit_1000000.3', 'Employers_Liability_Limit_1000',\n",
       "       'Professional_Indemnity_Limit_5', 'Professional_Indemnity_Limit_5.1',\n",
       "       'Professional_Indemnity_Limit_1', 'Professional_Indemnity_Limit_1.1',\n",
       "       'Professional_Indemnity_Limit_2', 'Professional_Indemnity_Limit_2.1',\n",
       "       'Professional_Indemnity_Limit_5.2', 'Professional_Indemnity_Limit_5.3',\n",
       "       'Professional_Indemnity_Limit_1.2', 'Professional_Indemnity_Limit_1.3',\n",
       "       'Professional_Indemnity_Limit_2.2', 'Professional_Indemnity_Limit_2.3',\n",
       "       'Tools_Sum_Insured_Ind', 'Contract_Works_Sum_Insured_Ind',\n",
       "       'Hired_in_Plan_Sum_Insured_Ind', 'Own_Plant_Sum_Insured_Ind',\n",
       "       'Public_Liability_Limit_5000000.2', 'Public_Liability_Limit_5000000.3',\n",
       "       'Professional_Indemnity_Limit_g', 'TotalEmployees', 'Product_TradeA',\n",
       "       'Product_TradeB', 'Product_TradeC', 'Product_TradeD',\n",
       "       'Transaction_Type_Cat', 'Category_Arts_Crafts',\n",
       "       'Category_Building/Allied', 'Category_Catering', 'Category_Cleaning',\n",
       "       'Category_Decline', 'Category_Decorators_Flooring',\n",
       "       'Category_Electrical', 'Category_Groundwork', 'Category_HVAC',\n",
       "       'Category_Insulation', 'Category_Professional',\n",
       "       'Category_Professional_Surveying', 'Category_Security',\n",
       "       'Category_Service', 'Category_Sport'],\n",
       "      dtype='object')"
      ]
     },
     "execution_count": 6,
     "metadata": {},
     "output_type": "execute_result"
    }
   ],
   "source": [
    "selected_col_df.columns"
   ]
  },
  {
   "cell_type": "code",
   "execution_count": 7,
   "metadata": {},
   "outputs": [],
   "source": [
    "selected_features = ['Source_System', 'Underwriting_Year',\n",
    "       'Public_Liability_Limit', 'Employers_Liability_Limit',\n",
    "       'Tools_Sum_Insured', 'Professional_Indemnity_Limit',\n",
    "       'Contract_Works_Sum_Insured', 'Hired_in_Plan_Sum_Insured',\n",
    "       'Own_Plant_Sum_Insured', 'Manual_EE', 'Clerical_EE', 'Subcontractor_EE',\n",
    "       'Trade_1_Risk_Level', 'Trade_2_Risk_Level', 'DurationofPolicy', 'CombinedTradeRiskLevel',\n",
    "       'Public_Liability_Limit_1000000', 'Public_Liability_Limit_1000000.1',\n",
    "       'Public_Liability_Limit_2000000', 'Public_Liability_Limit_5000000',\n",
    "       'Public_Liability_Limit_5000000.1', 'Public_Liability_Limit_1000000.2',\n",
    "       'Public_Liability_Limit_1000000.3', 'Employers_Liability_Limit_1000',\n",
    "       'Professional_Indemnity_Limit_5', 'Professional_Indemnity_Limit_5.1',\n",
    "       'Professional_Indemnity_Limit_1', 'Professional_Indemnity_Limit_1.1',\n",
    "       'Professional_Indemnity_Limit_2', 'Professional_Indemnity_Limit_2.1',\n",
    "       'Professional_Indemnity_Limit_5.2', 'Professional_Indemnity_Limit_5.3',\n",
    "       'Professional_Indemnity_Limit_1.2', 'Professional_Indemnity_Limit_1.3',\n",
    "       'Professional_Indemnity_Limit_2.2', 'Professional_Indemnity_Limit_2.3',\n",
    "       'Tools_Sum_Insured_Ind', 'Contract_Works_Sum_Insured_Ind',\n",
    "       'Hired_in_Plan_Sum_Insured_Ind', 'Own_Plant_Sum_Insured_Ind',\n",
    "       'Public_Liability_Limit_5000000.2', 'Public_Liability_Limit_5000000.3',\n",
    "       'Professional_Indemnity_Limit_g', 'TotalEmployees', 'Product_TradeA',\n",
    "       'Product_TradeB', 'Product_TradeC', 'Product_TradeD',\n",
    "       'Transaction_Type_Cat', 'Category_Arts_Crafts',\n",
    "       'Category_Building/Allied', 'Category_Catering', 'Category_Cleaning',\n",
    "       'Category_Decline', 'Category_Decorators_Flooring',\n",
    "       'Category_Electrical', 'Category_Groundwork', 'Category_HVAC',\n",
    "       'Category_Insulation', 'Category_Professional',\n",
    "       'Category_Professional_Surveying', 'Category_Security',\n",
    "       'Category_Service', 'Category_Sport','Commission_Amount']\n",
    "selected_target = ['Target1']"
   ]
  },
  {
   "cell_type": "markdown",
   "metadata": {},
   "source": [
    "selected_col_df.dtypes"
   ]
  },
  {
   "cell_type": "code",
   "execution_count": 8,
   "metadata": {},
   "outputs": [],
   "source": [
    "import math\n",
    "\n",
    "from IPython import display\n",
    "from matplotlib import cm\n",
    "from matplotlib import gridspec\n",
    "from matplotlib import pyplot as plt\n",
    "import numpy as np\n",
    "import pandas as pd\n",
    "from sklearn import metrics\n",
    "import tensorflow as tf\n",
    "from tensorflow.python.data import Dataset\n",
    "\n",
    "tf.logging.set_verbosity(tf.logging.ERROR)\n",
    "pd.options.display.max_rows = 50\n",
    "pd.options.display.float_format = '{:.1f}'.format"
   ]
  },
  {
   "cell_type": "code",
   "execution_count": 9,
   "metadata": {},
   "outputs": [],
   "source": [
    "def preprocess_features(Stores_data_frame):\n",
    "    selected_featur = Stores_data_frame[selected_features]\n",
    "    processed_features = selected_featur.copy()\n",
    "     # Create a synthetic feature.\n",
    "    return processed_features"
   ]
  },
  {
   "cell_type": "code",
   "execution_count": 10,
   "metadata": {},
   "outputs": [],
   "source": [
    "def preprocess_targets(Stores_data_frame):\n",
    "    output_targets = pd.DataFrame()\n",
    "    output_targets[target] =Stores_data_frame[target] \n",
    "    return output_targets"
   ]
  },
  {
   "cell_type": "code",
   "execution_count": 11,
   "metadata": {},
   "outputs": [],
   "source": [
    "def construct_feature_columns(input_features):\n",
    "    return set([tf.feature_column.numeric_column(my_feature)\n",
    "              for my_feature in input_features])"
   ]
  },
  {
   "cell_type": "code",
   "execution_count": 12,
   "metadata": {},
   "outputs": [],
   "source": [
    "def my_input_fn(features, targets, batch_size=1, shuffle=True, num_epochs=None):\n",
    "    # Convert pandas data into a dict of np arrays.\n",
    "    features = {key:np.array(value) for key,value in dict(features).items()}                                            \n",
    " \n",
    "    # Construct a dataset, and configure batching/repeating.\n",
    "    ds = Dataset.from_tensor_slices((features,targets)) # warning: 2GB limit\n",
    "    ds = ds.batch(batch_size).repeat(num_epochs)\n",
    "    \n",
    "    # Shuffle the data, if specified.\n",
    "    if shuffle:\n",
    "        ds = ds.shuffle(10000)\n",
    "    \n",
    "    # Return the next batch of data.\n",
    "    features, labels = ds.make_one_shot_iterator().get_next()\n",
    "    return features, labels"
   ]
  },
  {
   "cell_type": "code",
   "execution_count": 13,
   "metadata": {},
   "outputs": [],
   "source": [
    "def train_linear_classifier_model(\n",
    "    learning_rate,\n",
    "    steps,\n",
    "    batch_size,\n",
    "    training_examples,\n",
    "    training_targets,\n",
    "    validation_examples,\n",
    "    validation_targets,\n",
    "    my_optimizer,\n",
    "    hidden_units):\n",
    "    \n",
    "    periods = 10\n",
    "    steps_per_period = steps / periods\n",
    "  \n",
    "  # Create a linear classifier object.\n",
    "    my_optimizer = my_optimizer\n",
    "    my_optimizer = tf.contrib.estimator.clip_gradients_by_norm(my_optimizer, 5.0)\n",
    "    linear_classifier = tf.estimator.DNNClassifier(\n",
    "      feature_columns=construct_feature_columns(training_examples),\n",
    "      optimizer=my_optimizer,\n",
    "      hidden_units = hidden_units)\n",
    "   \n",
    "  \n",
    "  # Create input functions.\n",
    "    training_input_fn = lambda: my_input_fn(training_examples, \n",
    "                                          training_targets[selected_target], \n",
    "                                          batch_size=batch_size)\n",
    "    predict_training_input_fn = lambda: my_input_fn(training_examples, \n",
    "                                                  training_targets[selected_target], \n",
    "                                                  num_epochs=1, \n",
    "                                                  shuffle=False)\n",
    "    predict_validation_input_fn = lambda: my_input_fn(validation_examples, \n",
    "                                                    validation_targets[selected_target], \n",
    "                                                    num_epochs=1, \n",
    "                                                    shuffle=False)\n",
    "  \n",
    "  # Train the model, but do so inside a loop so that we can periodically assess\n",
    "  # loss metrics.\n",
    "    print (\"Training model...\")\n",
    "    training_log_losses = []\n",
    "    validation_log_losses = []\n",
    "    for period in range (0, periods):\n",
    "        \n",
    "        linear_classifier.train(input_fn=training_input_fn,\n",
    "                                steps=steps_per_period)\n",
    "       # Take a break and compute predictions.\n",
    "        \n",
    "        training_probabilities = linear_classifier.predict(input_fn=predict_training_input_fn)\n",
    "        training_probabilities = np.array([item['probabilities'] for item in training_probabilities])\n",
    "\n",
    "        validation_probabilities = linear_classifier.predict(input_fn=predict_validation_input_fn)\n",
    "        validation_probabilities = np.array([item['probabilities'] for item in validation_probabilities])\n",
    "\n",
    "        training_log_loss = metrics.log_loss(training_targets, training_probabilities)\n",
    "        validation_log_loss = metrics.log_loss(validation_targets, validation_probabilities)\n",
    "        # Occasionally print the current loss.\n",
    "        #print(period, training_log_loss)\n",
    "        # Add the loss metrics from this period to our list.\n",
    "        training_log_losses.append(training_log_loss)\n",
    "        validation_log_losses.append(validation_log_loss)\n",
    "   \n",
    "    print (\"Model training finished.\")\n",
    "    \n",
    "  \n",
    "  # Output a graph of loss metrics over periods.\n",
    "    plt.ylabel(\"LogLoss\")\n",
    "    plt.xlabel(\"Periods\")\n",
    "    plt.title(\"LogLoss vs. Periods\")\n",
    "    plt.tight_layout()\n",
    "    plt.plot(training_log_losses, label=\"training\")\n",
    "    plt.plot(validation_log_losses, label=\"Validation\")\n",
    "    plt.legend()\n",
    "\n",
    "    return linear_classifier"
   ]
  },
  {
   "cell_type": "code",
   "execution_count": 14,
   "metadata": {},
   "outputs": [],
   "source": [
    "from sklearn.model_selection import train_test_split"
   ]
  },
  {
   "cell_type": "code",
   "execution_count": 15,
   "metadata": {},
   "outputs": [],
   "source": [
    "def log_normalize(series):\n",
    "    return series.apply(lambda x:math.log(x+1.0))"
   ]
  },
  {
   "cell_type": "code",
   "execution_count": 16,
   "metadata": {},
   "outputs": [],
   "source": [
    "def normalize_log(examples_dataframe):\n",
    "    processed_features = pd.DataFrame()\n",
    "    for feature in examples_dataframe:\n",
    "        processed_features[feature] = log_normalize(examples_dataframe[feature])\n",
    "    return processed_features"
   ]
  },
  {
   "cell_type": "code",
   "execution_count": 17,
   "metadata": {},
   "outputs": [],
   "source": [
    "def preprocess_features_log(example_data_frame,all_features):\n",
    "    all_features = example_data_frame[all_features]\n",
    "    processed_features = all_features.copy()\n",
    "     # Create a synthetic feature.\n",
    "    return processed_features"
   ]
  },
  {
   "cell_type": "code",
   "execution_count": 18,
   "metadata": {},
   "outputs": [],
   "source": [
    "log_normalize_file =preprocess_features_log(normalize_log(preprocess_features_log(selected_col_df,selected_features)),\n",
    "                                            selected_features)"
   ]
  },
  {
   "cell_type": "code",
   "execution_count": 19,
   "metadata": {},
   "outputs": [],
   "source": [
    "training_examples, validation_examples, training_targets, validation_targets = train_test_split(log_normalize_file[selected_features], selected_col_df[selected_target],\n",
    "                                                    test_size = 0.3, random_state = 1)"
   ]
  },
  {
   "cell_type": "markdown",
   "metadata": {},
   "source": [
    "validation_probabilities = linear_classifier.predict(input_fn=predict_validation_input_fn)\n",
    "validation_probabilities = np.array([item['probabilities'][1] for item in validation_probabilities])"
   ]
  },
  {
   "cell_type": "markdown",
   "metadata": {},
   "source": [
    "false_positive_rate, true_positive_rate, thresholds = metrics.roc_curve(\n",
    "    validation_targets, validation_probabilities)\n",
    "plt.plot(false_positive_rate, true_positive_rate, label=\"our model\")\n",
    "plt.plot([0, 1], [0, 1], label=\"random classifier\")\n",
    "_ = plt.legend(loc=2)"
   ]
  },
  {
   "cell_type": "code",
   "execution_count": 20,
   "metadata": {},
   "outputs": [],
   "source": [
    "def train_model(training_examples,training_targets,validation_examples,validation_targets):\n",
    "    \n",
    "    #GradientDescentOptimizer\n",
    "#     print(\"GradientDescentOptimizer\")\n",
    "#     linear_classifier = train_linear_classifier_model(\n",
    "#     learning_rate=0.1,\n",
    "#     steps=500,\n",
    "#     batch_size=5,\n",
    "#     training_examples=training_examples,\n",
    "#     training_targets=training_targets,\n",
    "#     validation_examples=validation_examples,\n",
    "#     validation_targets=validation_targets,\n",
    "#     my_optimizer = tf.train.GradientDescentOptimizer(learning_rate=0.1),\n",
    "#     hidden_units=[50,50])\n",
    "    \n",
    "#     predict_validation_input_fn = lambda: my_input_fn(validation_examples, \n",
    "#                                                     validation_targets[selected_target], \n",
    "#                                                     num_epochs=1, \n",
    "#                                                     shuffle=False)\n",
    "#     evaluation_metrics = linear_classifier.evaluate(input_fn=predict_validation_input_fn)\n",
    "#     print(evaluation_metrics['auc'])\n",
    "#     print(evaluation_metrics['accuracy'])\n",
    "    \n",
    "    # FtrlOptimizer\n",
    "    print(\"FtrlOptimizer\")\n",
    "    linear_classifier = train_linear_classifier_model(\n",
    "    learning_rate=0.01,\n",
    "    steps=500,\n",
    "    batch_size=5,\n",
    "    training_examples=training_examples,\n",
    "    training_targets=training_targets,\n",
    "    validation_examples=validation_examples,\n",
    "    validation_targets=validation_targets,\n",
    "    my_optimizer = tf.train.FtrlOptimizer(learning_rate=0.01,l1_regularization_strength=0.2),\n",
    "    hidden_units=[50,50])\n",
    "    \n",
    "    \n",
    "    predict_validation_input_fn = lambda: my_input_fn(validation_examples, \n",
    "                                                    validation_targets[selected_target], \n",
    "                                                    num_epochs=1, \n",
    "                                                    shuffle=False)\n",
    "    evaluation_metrics = linear_classifier.evaluate(input_fn=predict_validation_input_fn)\n",
    "    print(evaluation_metrics['auc'])\n",
    "    print(evaluation_metrics['accuracy'])\n",
    "    \n",
    "    # AdamOptimizer\n",
    "    print(\"AdamOptimizer\")\n",
    "    \n",
    "    linear_classifier = train_linear_classifier_model(\n",
    "    learning_rate=0.01,\n",
    "    steps=500,\n",
    "    batch_size=10,\n",
    "    training_examples=training_examples,\n",
    "    training_targets=training_targets,\n",
    "    validation_examples=validation_examples,\n",
    "    validation_targets=validation_targets,\n",
    "    my_optimizer = tf.train.AdamOptimizer(learning_rate=0.01),\n",
    "    hidden_units=[50,50])\n",
    "    \n",
    "    \n",
    "    predict_validation_input_fn = lambda: my_input_fn(validation_examples, \n",
    "                                                    validation_targets[selected_target], \n",
    "                                                    num_epochs=1, \n",
    "                                                    shuffle=False)\n",
    "    evaluation_metrics = linear_classifier.evaluate(input_fn=predict_validation_input_fn)\n",
    "    print(evaluation_metrics['auc'])\n",
    "    print(evaluation_metrics['accuracy'])\n",
    "    \n",
    "    # FtrlOptimizer with L1 and L2 regularization\n",
    "    \n",
    "    print(\"FtrlOptimizer with L1 and L2 regularization\")\n",
    "    \n",
    "    linear_classifier = train_linear_classifier_model(\n",
    "    learning_rate=0.01,\n",
    "    steps=500,\n",
    "    batch_size=50,\n",
    "    training_examples=training_examples,\n",
    "    training_targets=training_targets,\n",
    "    validation_examples=validation_examples,\n",
    "    validation_targets=validation_targets,\n",
    "    my_optimizer = tf.train.FtrlOptimizer(learning_rate=0.01,l1_regularization_strength=0.2,l2_regularization_strength=0.2),\n",
    "    hidden_units=[50,50])\n",
    "    \n",
    "    predict_validation_input_fn = lambda: my_input_fn(validation_examples, \n",
    "                                                    validation_targets[selected_target], \n",
    "                                                    num_epochs=1, \n",
    "                                                    shuffle=False)\n",
    "    evaluation_metrics = linear_classifier.evaluate(input_fn=predict_validation_input_fn)\n",
    "    print(evaluation_metrics['auc'])\n",
    "    print(evaluation_metrics['accuracy'])\n",
    "\n",
    "    return linear_classifier    "
   ]
  },
  {
   "cell_type": "markdown",
   "metadata": {},
   "source": [
    "train_model(training_examples,training_targets,validation_examples,validation_targets)"
   ]
  },
  {
   "cell_type": "code",
   "execution_count": 21,
   "metadata": {},
   "outputs": [],
   "source": [
    "traning_1_df = pd.read_csv(r'C:\\Users\\rohishah\\Desktop\\DLAB\\First_set1.csv')\n",
    "traning_1_df = traning_1_df.reindex(np.random.permutation(traning_1_df.index))\n",
    "selected_col_1_df = create_dataframe(traning_1_df)"
   ]
  },
  {
   "cell_type": "code",
   "execution_count": 22,
   "metadata": {},
   "outputs": [],
   "source": [
    "log_normalize_file_1 =preprocess_features_log(normalize_log(preprocess_features_log(selected_col_1_df,selected_features)),\n",
    "                                            selected_features)"
   ]
  },
  {
   "cell_type": "code",
   "execution_count": 23,
   "metadata": {},
   "outputs": [],
   "source": [
    "training_examples_1, validation_examples_1, training_targets_1, validation_targets_1 = train_test_split(log_normalize_file_1[selected_features], selected_col_1_df[selected_target],\n",
    "                                                    test_size = 0.3, random_state = 1)"
   ]
  },
  {
   "cell_type": "markdown",
   "metadata": {},
   "source": [
    "selected_col_1_df.head()"
   ]
  },
  {
   "cell_type": "markdown",
   "metadata": {},
   "source": [
    "train_model(training_examples_1, training_targets_1,validation_examples_1, validation_targets_1)"
   ]
  },
  {
   "cell_type": "code",
   "execution_count": 24,
   "metadata": {},
   "outputs": [
    {
     "name": "stdout",
     "output_type": "stream",
     "text": [
      "Training model...\n",
      "Model training finished.\n"
     ]
    },
    {
     "data": {
      "image/png": "[encoded data removed]",
      "text/plain": [
       "<Figure size 432x288 with 1 Axes>"
      ]
     },
     "metadata": {},
     "output_type": "display_data"
    }
   ],
   "source": [
    "linear_classifier = train_linear_classifier_model(\n",
    "    learning_rate=0.07,\n",
    "    steps=500,\n",
    "    batch_size=50,\n",
    "    training_examples=training_examples,\n",
    "    training_targets=training_targets,\n",
    "    validation_examples=validation_examples,\n",
    "    validation_targets=validation_targets,\n",
    "    my_optimizer = tf.train.FtrlOptimizer(learning_rate=0.07,l1_regularization_strength=0.2,l2_regularization_strength=0.2),\n",
    "    hidden_units=[50,50])"
   ]
  },
  {
   "cell_type": "code",
   "execution_count": 25,
   "metadata": {},
   "outputs": [
    {
     "name": "stdout",
     "output_type": "stream",
     "text": [
      "0.766175\n",
      "0.692361\n"
     ]
    }
   ],
   "source": [
    "predict_validation_input_fn = lambda: my_input_fn(validation_examples, \n",
    "                                                    validation_targets[selected_target], \n",
    "                                                    num_epochs=1, \n",
    "                                                    shuffle=False)\n",
    "evaluation_metrics = linear_classifier.evaluate(input_fn=predict_validation_input_fn)\n",
    "print(evaluation_metrics['auc'])\n",
    "print(evaluation_metrics['accuracy'])"
   ]
  },
  {
   "cell_type": "code",
   "execution_count": 26,
   "metadata": {},
   "outputs": [
    {
     "name": "stdout",
     "output_type": "stream",
     "text": [
      "Training model...\n",
      "Model training finished.\n"
     ]
    },
    {
     "data": {
      "image/png": "[encoded data removed]",
      "text/plain": [
       "<Figure size 432x288 with 1 Axes>"
      ]
     },
     "metadata": {},
     "output_type": "display_data"
    }
   ],
   "source": [
    "linear_classifier = train_linear_classifier_model(\n",
    "    learning_rate=0.07,\n",
    "    steps=500,\n",
    "    batch_size=50,\n",
    "    training_examples=training_examples_1,\n",
    "    training_targets=training_targets_1,\n",
    "    validation_examples=validation_examples_1,\n",
    "    validation_targets=validation_targets_1,\n",
    "    my_optimizer = tf.train.FtrlOptimizer(learning_rate=0.07,l1_regularization_strength=0.2,l2_regularization_strength=0.2),\n",
    "    hidden_units=[50,50])"
   ]
  },
  {
   "cell_type": "code",
   "execution_count": 27,
   "metadata": {},
   "outputs": [
    {
     "name": "stdout",
     "output_type": "stream",
     "text": [
      "0.782117\n",
      "0.720139\n"
     ]
    }
   ],
   "source": [
    "predict_validation_input_fn = lambda: my_input_fn(validation_examples_1, \n",
    "                                                    validation_targets_1[selected_target], \n",
    "                                                    num_epochs=1, \n",
    "                                                    shuffle=False)\n",
    "evaluation_metrics = linear_classifier.evaluate(input_fn=predict_validation_input_fn)\n",
    "print(evaluation_metrics['auc'])\n",
    "print(evaluation_metrics['accuracy'])"
   ]
  },
  {
   "cell_type": "code",
   "execution_count": null,
   "metadata": {},
   "outputs": [],
   "source": []
  }
 ],
 "metadata": {
  "kernelspec": {
   "display_name": "Python 3",
   "language": "python",
   "name": "python3"
  },
  "language_info": {
   "codemirror_mode": {
    "name": "ipython",
    "version": 3
   },
   "file_extension": ".py",
   "mimetype": "text/x-python",
   "name": "python",
   "nbconvert_exporter": "python",
   "pygments_lexer": "ipython3",
   "version": "3.5.5"
  }
 },
 "nbformat": 4,
 "nbformat_minor": 2
}
