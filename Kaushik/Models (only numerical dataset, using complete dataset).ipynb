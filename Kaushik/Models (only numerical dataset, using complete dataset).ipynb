{
 "cells": [
  {
   "cell_type": "code",
   "execution_count": 13,
   "metadata": {},
   "outputs": [],
   "source": [
    "import math\n",
    "\n",
    "from IPython import display\n",
    "from matplotlib import cm\n",
    "from matplotlib import gridspec\n",
    "from matplotlib import pyplot as plt\n",
    "import numpy as np\n",
    "import pandas as pd\n",
    "from sklearn import metrics\n",
    "from time import time\n",
    "\n",
    "pd.options.display.max_rows = 10\n",
    "pd.options.display.float_format = '{:.1f}'.format\n",
    "\n",
    "import sklearn as sklearn"
   ]
  },
  {
   "cell_type": "code",
   "execution_count": 14,
   "metadata": {},
   "outputs": [
    {
     "data": {
      "text/html": [
       "<div>\n",
       "<style scoped>\n",
       "    .dataframe tbody tr th:only-of-type {\n",
       "        vertical-align: middle;\n",
       "    }\n",
       "\n",
       "    .dataframe tbody tr th {\n",
       "        vertical-align: top;\n",
       "    }\n",
       "\n",
       "    .dataframe thead th {\n",
       "        text-align: right;\n",
       "    }\n",
       "</style>\n",
       "<table border=\"1\" class=\"dataframe\">\n",
       "  <thead>\n",
       "    <tr style=\"text-align: right;\">\n",
       "      <th></th>\n",
       "      <th>Record_ID</th>\n",
       "      <th>Target1</th>\n",
       "      <th>Target2</th>\n",
       "      <th>Underwriting Year</th>\n",
       "      <th>Public Liability Limit</th>\n",
       "      <th>Employers Liability Limit</th>\n",
       "      <th>Tools Sum Insured</th>\n",
       "      <th>Professional Indemnity Limit</th>\n",
       "      <th>Contract Works Sum Insured</th>\n",
       "      <th>Hired in Plan Sum Insured</th>\n",
       "      <th>...</th>\n",
       "      <th>Professional_Indemnity_Limit_2.2</th>\n",
       "      <th>Professional_Indemnity_Limit_2.3</th>\n",
       "      <th>Tools_Sum_Insured_Ind</th>\n",
       "      <th>Contract_Works_Sum_Insured_Ind</th>\n",
       "      <th>Hired_in_Plan_Sum_Insured_Ind</th>\n",
       "      <th>Own_Plant_Sum_Insured_Ind</th>\n",
       "      <th>Public_Liability_Limit_5000000.2</th>\n",
       "      <th>Public_Liability_Limit_5000000.3</th>\n",
       "      <th>Professional_Indemnity_Limit_g</th>\n",
       "      <th>TotalEmployees</th>\n",
       "    </tr>\n",
       "  </thead>\n",
       "  <tbody>\n",
       "    <tr>\n",
       "      <th>0</th>\n",
       "      <td>0</td>\n",
       "      <td>0</td>\n",
       "      <td>0.0</td>\n",
       "      <td>2013</td>\n",
       "      <td>5000000</td>\n",
       "      <td>0</td>\n",
       "      <td>0.0</td>\n",
       "      <td>0</td>\n",
       "      <td>0</td>\n",
       "      <td>0</td>\n",
       "      <td>...</td>\n",
       "      <td>0</td>\n",
       "      <td>0</td>\n",
       "      <td>0</td>\n",
       "      <td>0</td>\n",
       "      <td>0</td>\n",
       "      <td>0</td>\n",
       "      <td>1</td>\n",
       "      <td>0</td>\n",
       "      <td>0</td>\n",
       "      <td>4</td>\n",
       "    </tr>\n",
       "    <tr>\n",
       "      <th>1</th>\n",
       "      <td>1</td>\n",
       "      <td>0</td>\n",
       "      <td>0.0</td>\n",
       "      <td>2013</td>\n",
       "      <td>2000000</td>\n",
       "      <td>0</td>\n",
       "      <td>2000.0</td>\n",
       "      <td>0</td>\n",
       "      <td>0</td>\n",
       "      <td>0</td>\n",
       "      <td>...</td>\n",
       "      <td>0</td>\n",
       "      <td>0</td>\n",
       "      <td>1</td>\n",
       "      <td>0</td>\n",
       "      <td>0</td>\n",
       "      <td>0</td>\n",
       "      <td>0</td>\n",
       "      <td>0</td>\n",
       "      <td>0</td>\n",
       "      <td>0</td>\n",
       "    </tr>\n",
       "    <tr>\n",
       "      <th>2</th>\n",
       "      <td>2</td>\n",
       "      <td>0</td>\n",
       "      <td>0.0</td>\n",
       "      <td>2013</td>\n",
       "      <td>1000000</td>\n",
       "      <td>0</td>\n",
       "      <td>0.0</td>\n",
       "      <td>100000</td>\n",
       "      <td>0</td>\n",
       "      <td>0</td>\n",
       "      <td>...</td>\n",
       "      <td>0</td>\n",
       "      <td>0</td>\n",
       "      <td>0</td>\n",
       "      <td>0</td>\n",
       "      <td>0</td>\n",
       "      <td>0</td>\n",
       "      <td>0</td>\n",
       "      <td>0</td>\n",
       "      <td>1</td>\n",
       "      <td>1</td>\n",
       "    </tr>\n",
       "    <tr>\n",
       "      <th>3</th>\n",
       "      <td>3</td>\n",
       "      <td>0</td>\n",
       "      <td>0.0</td>\n",
       "      <td>2013</td>\n",
       "      <td>5000000</td>\n",
       "      <td>0</td>\n",
       "      <td>0.0</td>\n",
       "      <td>0</td>\n",
       "      <td>0</td>\n",
       "      <td>0</td>\n",
       "      <td>...</td>\n",
       "      <td>0</td>\n",
       "      <td>0</td>\n",
       "      <td>0</td>\n",
       "      <td>0</td>\n",
       "      <td>0</td>\n",
       "      <td>0</td>\n",
       "      <td>1</td>\n",
       "      <td>0</td>\n",
       "      <td>0</td>\n",
       "      <td>1</td>\n",
       "    </tr>\n",
       "    <tr>\n",
       "      <th>4</th>\n",
       "      <td>4</td>\n",
       "      <td>0</td>\n",
       "      <td>0.0</td>\n",
       "      <td>2013</td>\n",
       "      <td>5000000</td>\n",
       "      <td>0</td>\n",
       "      <td>0.0</td>\n",
       "      <td>1000000</td>\n",
       "      <td>0</td>\n",
       "      <td>0</td>\n",
       "      <td>...</td>\n",
       "      <td>0</td>\n",
       "      <td>0</td>\n",
       "      <td>0</td>\n",
       "      <td>0</td>\n",
       "      <td>0</td>\n",
       "      <td>0</td>\n",
       "      <td>1</td>\n",
       "      <td>0</td>\n",
       "      <td>1</td>\n",
       "      <td>1</td>\n",
       "    </tr>\n",
       "    <tr>\n",
       "      <th>...</th>\n",
       "      <td>...</td>\n",
       "      <td>...</td>\n",
       "      <td>...</td>\n",
       "      <td>...</td>\n",
       "      <td>...</td>\n",
       "      <td>...</td>\n",
       "      <td>...</td>\n",
       "      <td>...</td>\n",
       "      <td>...</td>\n",
       "      <td>...</td>\n",
       "      <td>...</td>\n",
       "      <td>...</td>\n",
       "      <td>...</td>\n",
       "      <td>...</td>\n",
       "      <td>...</td>\n",
       "      <td>...</td>\n",
       "      <td>...</td>\n",
       "      <td>...</td>\n",
       "      <td>...</td>\n",
       "      <td>...</td>\n",
       "      <td>...</td>\n",
       "    </tr>\n",
       "    <tr>\n",
       "      <th>137562</th>\n",
       "      <td>167872</td>\n",
       "      <td>0</td>\n",
       "      <td>0.0</td>\n",
       "      <td>2013</td>\n",
       "      <td>1000000</td>\n",
       "      <td>0</td>\n",
       "      <td>0.0</td>\n",
       "      <td>1000000</td>\n",
       "      <td>0</td>\n",
       "      <td>0</td>\n",
       "      <td>...</td>\n",
       "      <td>0</td>\n",
       "      <td>0</td>\n",
       "      <td>0</td>\n",
       "      <td>0</td>\n",
       "      <td>0</td>\n",
       "      <td>0</td>\n",
       "      <td>0</td>\n",
       "      <td>0</td>\n",
       "      <td>1</td>\n",
       "      <td>1</td>\n",
       "    </tr>\n",
       "    <tr>\n",
       "      <th>137563</th>\n",
       "      <td>167873</td>\n",
       "      <td>0</td>\n",
       "      <td>0.0</td>\n",
       "      <td>2013</td>\n",
       "      <td>5000000</td>\n",
       "      <td>0</td>\n",
       "      <td>0.0</td>\n",
       "      <td>0</td>\n",
       "      <td>0</td>\n",
       "      <td>0</td>\n",
       "      <td>...</td>\n",
       "      <td>0</td>\n",
       "      <td>0</td>\n",
       "      <td>0</td>\n",
       "      <td>0</td>\n",
       "      <td>0</td>\n",
       "      <td>0</td>\n",
       "      <td>1</td>\n",
       "      <td>0</td>\n",
       "      <td>0</td>\n",
       "      <td>1</td>\n",
       "    </tr>\n",
       "    <tr>\n",
       "      <th>137564</th>\n",
       "      <td>167874</td>\n",
       "      <td>0</td>\n",
       "      <td>0.0</td>\n",
       "      <td>2013</td>\n",
       "      <td>1000000</td>\n",
       "      <td>0</td>\n",
       "      <td>0.0</td>\n",
       "      <td>250000</td>\n",
       "      <td>0</td>\n",
       "      <td>0</td>\n",
       "      <td>...</td>\n",
       "      <td>1</td>\n",
       "      <td>0</td>\n",
       "      <td>0</td>\n",
       "      <td>0</td>\n",
       "      <td>0</td>\n",
       "      <td>0</td>\n",
       "      <td>0</td>\n",
       "      <td>0</td>\n",
       "      <td>1</td>\n",
       "      <td>1</td>\n",
       "    </tr>\n",
       "    <tr>\n",
       "      <th>137565</th>\n",
       "      <td>167876</td>\n",
       "      <td>0</td>\n",
       "      <td>0.0</td>\n",
       "      <td>2013</td>\n",
       "      <td>1000000</td>\n",
       "      <td>0</td>\n",
       "      <td>0.0</td>\n",
       "      <td>0</td>\n",
       "      <td>0</td>\n",
       "      <td>0</td>\n",
       "      <td>...</td>\n",
       "      <td>0</td>\n",
       "      <td>0</td>\n",
       "      <td>0</td>\n",
       "      <td>0</td>\n",
       "      <td>0</td>\n",
       "      <td>0</td>\n",
       "      <td>0</td>\n",
       "      <td>0</td>\n",
       "      <td>0</td>\n",
       "      <td>7</td>\n",
       "    </tr>\n",
       "    <tr>\n",
       "      <th>137566</th>\n",
       "      <td>167877</td>\n",
       "      <td>0</td>\n",
       "      <td>0.0</td>\n",
       "      <td>2013</td>\n",
       "      <td>2000000</td>\n",
       "      <td>10000000</td>\n",
       "      <td>0.0</td>\n",
       "      <td>500000</td>\n",
       "      <td>0</td>\n",
       "      <td>0</td>\n",
       "      <td>...</td>\n",
       "      <td>0</td>\n",
       "      <td>0</td>\n",
       "      <td>0</td>\n",
       "      <td>0</td>\n",
       "      <td>0</td>\n",
       "      <td>0</td>\n",
       "      <td>0</td>\n",
       "      <td>0</td>\n",
       "      <td>1</td>\n",
       "      <td>1</td>\n",
       "    </tr>\n",
       "  </tbody>\n",
       "</table>\n",
       "<p>137567 rows × 49 columns</p>\n",
       "</div>"
      ],
      "text/plain": [
       "        Record_ID  Target1  Target2  Underwriting Year  \\\n",
       "0               0        0      0.0               2013   \n",
       "1               1        0      0.0               2013   \n",
       "2               2        0      0.0               2013   \n",
       "3               3        0      0.0               2013   \n",
       "4               4        0      0.0               2013   \n",
       "...           ...      ...      ...                ...   \n",
       "137562     167872        0      0.0               2013   \n",
       "137563     167873        0      0.0               2013   \n",
       "137564     167874        0      0.0               2013   \n",
       "137565     167876        0      0.0               2013   \n",
       "137566     167877        0      0.0               2013   \n",
       "\n",
       "        Public Liability Limit  Employers Liability Limit  Tools Sum Insured  \\\n",
       "0                      5000000                          0                0.0   \n",
       "1                      2000000                          0             2000.0   \n",
       "2                      1000000                          0                0.0   \n",
       "3                      5000000                          0                0.0   \n",
       "4                      5000000                          0                0.0   \n",
       "...                        ...                        ...                ...   \n",
       "137562                 1000000                          0                0.0   \n",
       "137563                 5000000                          0                0.0   \n",
       "137564                 1000000                          0                0.0   \n",
       "137565                 1000000                          0                0.0   \n",
       "137566                 2000000                   10000000                0.0   \n",
       "\n",
       "        Professional Indemnity Limit  Contract Works Sum Insured  \\\n",
       "0                                  0                           0   \n",
       "1                                  0                           0   \n",
       "2                             100000                           0   \n",
       "3                                  0                           0   \n",
       "4                            1000000                           0   \n",
       "...                              ...                         ...   \n",
       "137562                       1000000                           0   \n",
       "137563                             0                           0   \n",
       "137564                        250000                           0   \n",
       "137565                             0                           0   \n",
       "137566                        500000                           0   \n",
       "\n",
       "        Hired in Plan Sum Insured       ...        \\\n",
       "0                               0       ...         \n",
       "1                               0       ...         \n",
       "2                               0       ...         \n",
       "3                               0       ...         \n",
       "4                               0       ...         \n",
       "...                           ...       ...         \n",
       "137562                          0       ...         \n",
       "137563                          0       ...         \n",
       "137564                          0       ...         \n",
       "137565                          0       ...         \n",
       "137566                          0       ...         \n",
       "\n",
       "        Professional_Indemnity_Limit_2.2  Professional_Indemnity_Limit_2.3  \\\n",
       "0                                      0                                 0   \n",
       "1                                      0                                 0   \n",
       "2                                      0                                 0   \n",
       "3                                      0                                 0   \n",
       "4                                      0                                 0   \n",
       "...                                  ...                               ...   \n",
       "137562                                 0                                 0   \n",
       "137563                                 0                                 0   \n",
       "137564                                 1                                 0   \n",
       "137565                                 0                                 0   \n",
       "137566                                 0                                 0   \n",
       "\n",
       "        Tools_Sum_Insured_Ind  Contract_Works_Sum_Insured_Ind  \\\n",
       "0                           0                               0   \n",
       "1                           1                               0   \n",
       "2                           0                               0   \n",
       "3                           0                               0   \n",
       "4                           0                               0   \n",
       "...                       ...                             ...   \n",
       "137562                      0                               0   \n",
       "137563                      0                               0   \n",
       "137564                      0                               0   \n",
       "137565                      0                               0   \n",
       "137566                      0                               0   \n",
       "\n",
       "        Hired_in_Plan_Sum_Insured_Ind  Own_Plant_Sum_Insured_Ind  \\\n",
       "0                                   0                          0   \n",
       "1                                   0                          0   \n",
       "2                                   0                          0   \n",
       "3                                   0                          0   \n",
       "4                                   0                          0   \n",
       "...                               ...                        ...   \n",
       "137562                              0                          0   \n",
       "137563                              0                          0   \n",
       "137564                              0                          0   \n",
       "137565                              0                          0   \n",
       "137566                              0                          0   \n",
       "\n",
       "        Public_Liability_Limit_5000000.2  Public_Liability_Limit_5000000.3  \\\n",
       "0                                      1                                 0   \n",
       "1                                      0                                 0   \n",
       "2                                      0                                 0   \n",
       "3                                      1                                 0   \n",
       "4                                      1                                 0   \n",
       "...                                  ...                               ...   \n",
       "137562                                 0                                 0   \n",
       "137563                                 1                                 0   \n",
       "137564                                 0                                 0   \n",
       "137565                                 0                                 0   \n",
       "137566                                 0                                 0   \n",
       "\n",
       "        Professional_Indemnity_Limit_g  TotalEmployees  \n",
       "0                                    0               4  \n",
       "1                                    0               0  \n",
       "2                                    1               1  \n",
       "3                                    0               1  \n",
       "4                                    1               1  \n",
       "...                                ...             ...  \n",
       "137562                               1               1  \n",
       "137563                               0               1  \n",
       "137564                               1               1  \n",
       "137565                               0               7  \n",
       "137566                               1               1  \n",
       "\n",
       "[137567 rows x 49 columns]"
      ]
     },
     "execution_count": 14,
     "metadata": {},
     "output_type": "execute_result"
    }
   ],
   "source": [
    "df = pd.read_csv(r\"C:\\Users\\kmoudgalya\\Desktop\\Code\\ML Insurance\\dataset_only_numbers.csv\")\n",
    "Y = df[[\"Target3\"]]\n",
    "X = df.drop(columns=[\"Target3\",\"Unnamed: 0\"])\n",
    "X"
   ]
  },
  {
   "cell_type": "code",
   "execution_count": 15,
   "metadata": {},
   "outputs": [
    {
     "data": {
      "text/plain": [
       "(137567, 49)"
      ]
     },
     "execution_count": 15,
     "metadata": {},
     "output_type": "execute_result"
    }
   ],
   "source": [
    "X.shape"
   ]
  },
  {
   "cell_type": "code",
   "execution_count": 16,
   "metadata": {},
   "outputs": [],
   "source": [
    "from sklearn.model_selection import train_test_split\n",
    "from sklearn.metrics import accuracy_score\n",
    "X_train, X_test, Y_train, Y_test = train_test_split(X, Y, test_size = 0.2, random_state = 1)"
   ]
  },
  {
   "cell_type": "markdown",
   "metadata": {},
   "source": [
    "# Extra Trees Regressor"
   ]
  },
  {
   "cell_type": "code",
   "execution_count": 18,
   "metadata": {},
   "outputs": [
    {
     "name": "stdout",
     "output_type": "stream",
     "text": [
      "Done in 38.018s\n",
      "[3.60755991e-01 6.69804592e-03 2.28727114e-01 8.61762119e-03\n",
      " 3.01231602e-03 1.60874144e-02 1.68423962e-03 2.46061631e-04\n",
      " 1.16281835e-03 4.56654179e-04 2.19887029e-04 7.97286880e-03\n",
      " 2.05890854e-02 7.48717997e-04 4.67258304e-02 2.45740430e-02\n",
      " 1.56914794e-01 0.00000000e+00 5.00791065e-04 1.90785802e-04\n",
      " 3.83032805e-02 2.21046691e-03 3.03622078e-04 1.85948151e-02\n",
      " 2.29949700e-03 2.77220785e-04 2.15057093e-03 3.17476776e-04\n",
      " 1.53874506e-02 4.01659496e-04 1.76747755e-06 2.11734576e-05\n",
      " 8.85694542e-05 2.34568002e-05 6.26095337e-05 4.09557842e-04\n",
      " 3.68137933e-06 2.87175835e-05 8.99955949e-05 1.97478236e-05\n",
      " 4.73314055e-05 3.14740664e-03 7.35369113e-04 4.83144042e-04\n",
      " 3.11722329e-04 2.08091537e-03 2.80268423e-04 3.58340534e-04\n",
      " 2.56750856e-02]\n"
     ]
    }
   ],
   "source": [
    "from time import time\n",
    "from sklearn.ensemble import ExtraTreesRegressor\n",
    "t0 = time()\n",
    "forest = ExtraTreesRegressor(n_estimators=1000,\n",
    "                              random_state=0)\n",
    "forest.fit(X_train,Y_train.values.ravel())\n",
    "print(\"Done in %0.3fs\" % (time() - t0))\n",
    "importances = forest.feature_importances_\n",
    "print(importances)"
   ]
  },
  {
   "cell_type": "code",
   "execution_count": 21,
   "metadata": {},
   "outputs": [
    {
     "name": "stdout",
     "output_type": "stream",
     "text": [
      "Accuracy Score is: -2.100892277870816\n",
      "[3.60755991e-01 6.69804592e-03 2.28727114e-01 8.61762119e-03\n",
      " 3.01231602e-03 1.60874144e-02 1.68423962e-03 2.46061631e-04\n",
      " 1.16281835e-03 4.56654179e-04 2.19887029e-04 7.97286880e-03\n",
      " 2.05890854e-02 7.48717997e-04 4.67258304e-02 2.45740430e-02\n",
      " 1.56914794e-01 0.00000000e+00 5.00791065e-04 1.90785802e-04\n",
      " 3.83032805e-02 2.21046691e-03 3.03622078e-04 1.85948151e-02\n",
      " 2.29949700e-03 2.77220785e-04 2.15057093e-03 3.17476776e-04\n",
      " 1.53874506e-02 4.01659496e-04 1.76747755e-06 2.11734576e-05\n",
      " 8.85694542e-05 2.34568002e-05 6.26095337e-05 4.09557842e-04\n",
      " 3.68137933e-06 2.87175835e-05 8.99955949e-05 1.97478236e-05\n",
      " 4.73314055e-05 3.14740664e-03 7.35369113e-04 4.83144042e-04\n",
      " 3.11722329e-04 2.08091537e-03 2.80268423e-04 3.58340534e-04\n",
      " 2.56750856e-02]\n",
      "MSE: 203.6772\n"
     ]
    }
   ],
   "source": [
    "print(\"Accuracy Score is: {}\".format(forest.score(X_test,Y_test)))\n",
    "print(importances)\n",
    "from sklearn.metrics import mean_squared_error\n",
    "mse = mean_squared_error(Y_test, forest.predict(X_test))\n",
    "print(\"MSE: %.4f\" % mse)"
   ]
  },
  {
   "cell_type": "markdown",
   "metadata": {},
   "source": [
    "# Gradient Boosting Regressor"
   ]
  },
  {
   "cell_type": "code",
   "execution_count": 23,
   "metadata": {},
   "outputs": [
    {
     "name": "stdout",
     "output_type": "stream",
     "text": [
      "Done in 23.702s\n",
      "Done in 49.027s\n",
      "Done in 75.760s\n",
      "MSE: 534.9081\n",
      "Accuracy Score is: -7.143733249409792\n",
      "MSE: 2503.0794\n",
      "Accuracy Score is: -37.10824710283348\n",
      "MSE: 3858.1409\n",
      "Accuracy Score is: -57.738442634132035\n"
     ]
    }
   ],
   "source": [
    "from sklearn.ensemble import GradientBoostingRegressor\n",
    "t0 = time()\n",
    "#VARYING NUMBER OF ESTIMATORS\n",
    "GBR1 = GradientBoostingRegressor(n_estimators=250,\n",
    "                              loss=\"ls\",learning_rate=0.01,min_samples_split=2,max_depth=2)\n",
    "GBR2 = GradientBoostingRegressor(n_estimators=500,\n",
    "                              loss=\"ls\",learning_rate=0.01,min_samples_split=2,max_depth=2)\n",
    "GBR3 = GradientBoostingRegressor(n_estimators=1000,\n",
    "                              loss=\"ls\",learning_rate=0.01,min_samples_split=2,max_depth=2)\n",
    "GBR1.fit(X_train,Y_train.values.ravel())\n",
    "t1 = time()\n",
    "print(\"Done in %0.3fs\" % (t1 - t0))\n",
    "GBR2.fit(X_train,Y_train.values.ravel())\n",
    "t2 = time()\n",
    "print(\"Done in %0.3fs\" % (t2 - t1))\n",
    "GBR3.fit(X_train,Y_train.values.ravel())\n",
    "t3 = time()\n",
    "print(\"Done in %0.3fs\" % (t3 - t2))\n",
    "\n",
    "mse = mean_squared_error(Y_test, GBR1.predict(X_test))\n",
    "print(\"MSE: %.4f\" % mse)\n",
    "print(\"Accuracy Score is: {}\".format(GBR1.score(X_test,Y_test)))\n",
    "mse = mean_squared_error(Y_test, GBR2.predict(X_test))\n",
    "print(\"MSE: %.4f\" % mse)\n",
    "print(\"Accuracy Score is: {}\".format(GBR2.score(X_test,Y_test)))\n",
    "mse = mean_squared_error(Y_test, GBR3.predict(X_test))\n",
    "print(\"MSE: %.4f\" % mse)\n",
    "print(\"Accuracy Score is: {}\".format(GBR3.score(X_test,Y_test)))"
   ]
  },
  {
   "cell_type": "markdown",
   "metadata": {},
   "source": [
    "# GBR1 is the best yet, n_estimators for this model set at 250"
   ]
  },
  {
   "cell_type": "code",
   "execution_count": 25,
   "metadata": {
    "scrolled": true
   },
   "outputs": [
    {
     "name": "stdout",
     "output_type": "stream",
     "text": [
      "Done in 42.940s\n",
      "Done in 84.969s\n",
      "Done in 124.769s\n",
      "MSE: 62.2639\n",
      "Accuracy Score is: 0.052060083682529346\n",
      "MSE: 57.2176\n",
      "Accuracy Score is: 0.12888845070962707\n",
      "MSE: 64.6402\n",
      "Accuracy Score is: 0.015882827295509494\n"
     ]
    }
   ],
   "source": [
    "t0 = time()\n",
    "GBR4 = GradientBoostingRegressor(n_estimators=250,\n",
    "                              loss=\"ls\",learning_rate=0.01,min_samples_split=2,max_depth=3)\n",
    "GBR5 = GradientBoostingRegressor(n_estimators=250,\n",
    "                              loss=\"ls\",learning_rate=0.01,min_samples_split=2,max_depth=6)\n",
    "GBR6 = GradientBoostingRegressor(n_estimators=250,\n",
    "                              loss=\"ls\",learning_rate=0.01,min_samples_split=2,max_depth=9)\n",
    "GBR4.fit(X_train,Y_train.values.ravel())\n",
    "t1 = time()\n",
    "print(\"Done in %0.3fs\" % (t1 - t0))\n",
    "GBR5.fit(X_train,Y_train.values.ravel())\n",
    "t2 = time()\n",
    "print(\"Done in %0.3fs\" % (t2 - t1))\n",
    "GBR6.fit(X_train,Y_train.values.ravel())\n",
    "t3 = time()\n",
    "print(\"Done in %0.3fs\" % (t3 - t2))\n",
    "\n",
    "mse = mean_squared_error(Y_test, GBR4.predict(X_test))\n",
    "print(\"MSE: %.4f\" % mse)\n",
    "print(\"Accuracy Score is: {}\".format(GBR4.score(X_test,Y_test)))\n",
    "mse = mean_squared_error(Y_test, GBR5.predict(X_test))\n",
    "print(\"MSE: %.4f\" % mse)\n",
    "print(\"Accuracy Score is: {}\".format(GBR5.score(X_test,Y_test)))\n",
    "mse = mean_squared_error(Y_test, GBR6.predict(X_test))\n",
    "print(\"MSE: %.4f\" % mse)\n",
    "print(\"Accuracy Score is: {}\".format(GBR6.score(X_test,Y_test)))"
   ]
  },
  {
   "cell_type": "markdown",
   "metadata": {},
   "source": [
    "# Finally positive accuracy scores, MSE best yet, GBR max_depth set at 6"
   ]
  },
  {
   "cell_type": "code",
   "execution_count": 26,
   "metadata": {},
   "outputs": [
    {
     "name": "stdout",
     "output_type": "stream",
     "text": [
      "Done in 95.787s\n",
      "Done in 89.755s\n",
      "Done in 53.981s\n",
      "MSE: 53.9298\n",
      "Accuracy Score is: 0.1789428418538428\n",
      "MSE: 68.5869\n",
      "Accuracy Score is: -0.044204629563426634\n",
      "MSE: 64.0884\n",
      "Accuracy Score is: 0.024283208873872586\n"
     ]
    }
   ],
   "source": [
    "t0 = time()\n",
    "GBR7 = GradientBoostingRegressor(n_estimators=250,\n",
    "                              loss=\"ls\",learning_rate=0.01,min_samples_split=2,max_depth=6)\n",
    "GBR8 = GradientBoostingRegressor(n_estimators=250,\n",
    "                              loss=\"ls\",learning_rate=0.1,min_samples_split=2,max_depth=6)\n",
    "GBR9 = GradientBoostingRegressor(n_estimators=250,\n",
    "                              loss=\"ls\",learning_rate=1,min_samples_split=2,max_depth=6)\n",
    "GBR7.fit(X_train,Y_train.values.ravel())\n",
    "t1 = time()\n",
    "print(\"Done in %0.3fs\" % (t1 - t0))\n",
    "GBR8.fit(X_train,Y_train.values.ravel())\n",
    "t2 = time()\n",
    "print(\"Done in %0.3fs\" % (t2 - t1))\n",
    "GBR9.fit(X_train,Y_train.values.ravel())\n",
    "t3 = time()\n",
    "print(\"Done in %0.3fs\" % (t3 - t2))\n",
    "\n",
    "mse = mean_squared_error(Y_test, GBR7.predict(X_test))\n",
    "print(\"MSE: %.4f\" % mse)\n",
    "print(\"Accuracy Score is: {}\".format(GBR7.score(X_test,Y_test)))\n",
    "mse = mean_squared_error(Y_test, GBR8.predict(X_test))\n",
    "print(\"MSE: %.4f\" % mse)\n",
    "print(\"Accuracy Score is: {}\".format(GBR8.score(X_test,Y_test)))\n",
    "mse = mean_squared_error(Y_test, GBR9.predict(X_test))\n",
    "print(\"MSE: %.4f\" % mse)\n",
    "print(\"Accuracy Score is: {}\".format(GBR9.score(X_test,Y_test)))"
   ]
  },
  {
   "cell_type": "markdown",
   "metadata": {},
   "source": [
    "# GBR Learning Rate set at 0.01, refer to the cell above"
   ]
  },
  {
   "cell_type": "markdown",
   "metadata": {},
   "source": [
    "# GridSearchCV and RandomizedGridSearchCV pose a lot of problems, wrt to training time and configuration, at least under a time crunch like now. Will use ParameterGrid instead.\n",
    "\n",
    "# The code for the GridSearchCV attempt is available on one of the notebooks in this folder."
   ]
  },
  {
   "cell_type": "markdown",
   "metadata": {},
   "source": [
    "# GBR using ParameterGrid"
   ]
  },
  {
   "cell_type": "markdown",
   "metadata": {},
   "source": [
    "# Training all models:"
   ]
  },
  {
   "cell_type": "code",
   "execution_count": 44,
   "metadata": {},
   "outputs": [],
   "source": [
    "from sklearn.model_selection import ParameterGrid\n",
    "grid = ParameterGrid({\"max_samples\": [0.5, 1.0],\n",
    "                      \"max_features\": [0.5, 1.0],\n",
    "                      \"bootstrap\": [True, False],\n",
    "                      \"bootstrap_features\": [True, False]})"
   ]
  },
  {
   "cell_type": "code",
   "execution_count": null,
   "metadata": {},
   "outputs": [],
   "source": [
    "from sklearn.tree import DecisionTreeRegressor\n",
    "from sklearn.neighbors import KNeighborsRegressor\n",
    "from sklearn.svm import SVR\n",
    "from sklearn.ensemble import BaggingRegressor\n",
    "for base_estimator in [DecisionTreeRegressor(),\n",
    "                       KNeighborsRegressor(),\n",
    "                       SVR()]:\n",
    "     for params in grid:\n",
    "            BaggingRegressor(base_estimator=base_estimator,\n",
    "                             random_state=None,\n",
    "                             **params).fit(X_train, Y_train.values.ravel()).predict(X_test) "
   ]
  },
  {
   "cell_type": "markdown",
   "metadata": {},
   "source": [
    "# Gaussian Process Regressor"
   ]
  },
  {
   "cell_type": "markdown",
   "metadata": {},
   "source": [
    "# Kernel Ridge Regressor (identical to Support Vector Regressor)"
   ]
  },
  {
   "cell_type": "code",
   "execution_count": null,
   "metadata": {},
   "outputs": [],
   "source": [
    "# MLP Regressor"
   ]
  },
  {
   "cell_type": "code",
   "execution_count": null,
   "metadata": {},
   "outputs": [],
   "source": [
    "# Decision Tree Regressor"
   ]
  },
  {
   "cell_type": "code",
   "execution_count": null,
   "metadata": {},
   "outputs": [],
   "source": [
    "# Adabosting Regressor"
   ]
  },
  {
   "cell_type": "code",
   "execution_count": null,
   "metadata": {},
   "outputs": [],
   "source": [
    "# Random Forests Regressor"
   ]
  },
  {
   "cell_type": "code",
   "execution_count": null,
   "metadata": {},
   "outputs": [],
   "source": [
    "# Voting Regressor"
   ]
  },
  {
   "cell_type": "code",
   "execution_count": null,
   "metadata": {},
   "outputs": [],
   "source": [
    "# Support Vector Regression"
   ]
  },
  {
   "cell_type": "code",
   "execution_count": null,
   "metadata": {},
   "outputs": [],
   "source": [
    "# TheilSen Regressor"
   ]
  },
  {
   "cell_type": "code",
   "execution_count": null,
   "metadata": {},
   "outputs": [],
   "source": [
    "# Huber Regressor"
   ]
  },
  {
   "cell_type": "code",
   "execution_count": null,
   "metadata": {},
   "outputs": [],
   "source": [
    "# Ridge Regressor if it's different than Kernel Rdige"
   ]
  },
  {
   "cell_type": "code",
   "execution_count": null,
   "metadata": {},
   "outputs": [],
   "source": [
    "# Lasso"
   ]
  },
  {
   "cell_type": "code",
   "execution_count": null,
   "metadata": {},
   "outputs": [],
   "source": [
    "# LAD regression"
   ]
  },
  {
   "cell_type": "code",
   "execution_count": null,
   "metadata": {},
   "outputs": [],
   "source": [
    "# Jackknife regression"
   ]
  },
  {
   "cell_type": "code",
   "execution_count": null,
   "metadata": {},
   "outputs": [],
   "source": [
    "# Elastic Net regression"
   ]
  }
 ],
 "metadata": {
  "kernelspec": {
   "display_name": "Python 3",
   "language": "python",
   "name": "python3"
  },
  "language_info": {
   "codemirror_mode": {
    "name": "ipython",
    "version": 3
   },
   "file_extension": ".py",
   "mimetype": "text/x-python",
   "name": "python",
   "nbconvert_exporter": "python",
   "pygments_lexer": "ipython3",
   "version": "3.6.4"
  }
 },
 "nbformat": 4,
 "nbformat_minor": 2
}
